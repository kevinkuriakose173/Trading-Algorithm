{
 "cells": [
  {
   "cell_type": "code",
   "execution_count": 1220,
   "metadata": {},
   "outputs": [],
   "source": [
    "import pandas as pd\n",
    "import yfinance as yf\n",
    "import matplotlib.pyplot as plt\n",
    "from sklearn.ensemble import RandomForestClassifier\n",
    "from IPython.display import display"
   ]
  },
  {
   "cell_type": "code",
   "execution_count": 1221,
   "metadata": {},
   "outputs": [
    {
     "name": "stderr",
     "output_type": "stream",
     "text": [
      "[*********************100%***********************]  1 of 1 completed\n"
     ]
    }
   ],
   "source": [
    "data = yf.download(\"SPY\", start=\"2000-01-01\", end=\"2023-12-31\")"
   ]
  },
  {
   "cell_type": "code",
   "execution_count": 1222,
   "metadata": {},
   "outputs": [],
   "source": [
    "data.columns = data.columns.get_level_values(0)\n",
    "data.columns = ['Close', 'High', 'Low', 'Open', 'Volume']"
   ]
  },
  {
   "cell_type": "code",
   "execution_count": 1223,
   "metadata": {},
   "outputs": [
    {
     "data": {
      "text/plain": [
       "<Axes: xlabel='Date'>"
      ]
     },
     "execution_count": 1223,
     "metadata": {},
     "output_type": "execute_result"
    },
    {
     "data": {
      "image/png": "[encoded data removed]",
      "text/plain": [
       "<Figure size 640x480 with 1 Axes>"
      ]
     },
     "metadata": {},
     "output_type": "display_data"
    }
   ],
   "source": [
    "data.plot.line(y=\"Close\", use_index=True)"
   ]
  },
  {
   "cell_type": "code",
   "execution_count": 1224,
   "metadata": {},
   "outputs": [],
   "source": [
    "data[\"% Change\"] = (data[\"Close\"] - data[\"Close\"].shift(1)) / data[\"Close\"].shift(1)\n",
    "data[\"Target\"] = (data[\"% Change\"].shift(-1) > 0).astype(int)\n",
    "\n",
    "data[\"10-Day MA\"] = data[\"Close\"].rolling(window=10).mean()\n",
    "data[\"50-Day MA\"] = data[\"Close\"].rolling(window=50).mean()\n",
    "data[\"200-Day MA\"] = data[\"Close\"].rolling(window=200).mean()\n",
    "\n",
    "data[\"Rel_MA_Diff_10_50\"] = (data[\"10-Day MA\"] - data[\"50-Day MA\"]) / data[\"Close\"]\n",
    "data[\"Rel_MA_Diff_50_200\"] = (data[\"50-Day MA\"] - data[\"200-Day MA\"]) / data[\"Close\"]\n",
    "\n",
    "data[\"Price_Dist_10\"] = (data[\"Close\"] - data[\"10-Day MA\"]) / data[\"Close\"]\n",
    "data[\"Price_Dist_50\"] = (data[\"Close\"] - data[\"50-Day MA\"]) / data[\"Close\"]\n",
    "data[\"Price_Dist_200\"] = (data[\"Close\"] - data[\"200-Day MA\"]) / data[\"Close\"]\n",
    "\n",
    "data[\"Crossover_10_50\"] = (data[\"10-Day MA\"] > data[\"50-Day MA\"]).astype(int)\n",
    "data[\"Crossover_50_200\"] = (data[\"50-Day MA\"] > data[\"200-Day MA\"]).astype(int)\n",
    "\n",
    "delta = data[\"Close\"].diff()\n",
    "gain = (delta.where(delta > 0, 0)).rolling(window=2).mean()\n",
    "loss = (-delta.where(delta < 0, 0)).rolling(window=2).mean()\n",
    "rs = gain / loss\n",
    "rsi = 100 - (100 / (1 + rs))\n",
    "data[\"RSI\"] = rsi\n",
    "data[\"RSI_Signal\"] = 0  # Initialize to 0\n",
    "data.loc[data[\"RSI\"] > 90, \"RSI_Signal\"] = -1  # RSI > 70: -1 (negative signal)\n",
    "data.loc[data[\"RSI\"] < 10, \"RSI_Signal\"] = 1\n",
    "\n",
    "data.dropna(inplace=True)\n"
   ]
  },
  {
   "cell_type": "code",
   "execution_count": 1225,
   "metadata": {},
   "outputs": [],
   "source": [
    "def predict(train, test, predictors, model):\n",
    "    model.fit(train[predictors], train[\"Target\"])\n",
    "    pred = model.predict_proba(test[predictors])[:, 1]\n",
    "    threshold = 0.4\n",
    "    pred[pred >= threshold] = 1\n",
    "    pred[pred < threshold] = 0\n",
    "    pred = pd.Series(pred, index=test.index, name=\"Predictions\")\n",
    "    combined = pd.concat([test[\"Target\"], pred], axis=1)\n",
    "    return combined"
   ]
  },
  {
   "cell_type": "code",
   "execution_count": 1226,
   "metadata": {},
   "outputs": [],
   "source": [
    "def backtest(data, predictors, model, start=2500, step=250):\n",
    "    all_predictions = []\n",
    "    for i in range(start, data.shape[0], step):\n",
    "        train = data.iloc[0:i].copy()\n",
    "        test = data.iloc[i:(i + step)].copy()\n",
    "        predictions = predict(train, test, predictors, model)\n",
    "        all_predictions.append(predictions)\n",
    "    return pd.concat(all_predictions)"
   ]
  },
  {
   "cell_type": "code",
   "execution_count": 1227,
   "metadata": {},
   "outputs": [],
   "source": [
    "model = RandomForestClassifier(n_estimators=100, min_samples_split=100, random_state=1)\n",
    "\n",
    "predictors = [\"% Change\", \"Rel_MA_Diff_10_50\", \"Rel_MA_Diff_50_200\", \"Price_Dist_10\", \"Price_Dist_50\", \"Price_Dist_200\", \"Crossover_10_50\", \"Crossover_50_200\", \"RSI_Signal\"]#, \"Volume\", \"SMA_10\", \"SMA_50\", \"EMA_10\", \"EMA_50\", \"RSI\", \"High_Low\", \"High_Close\", \"Low_Close\", \"True_Range\", \"ATR\"]\n",
    "preds = backtest(data, predictors, model)"
   ]
  },
  {
   "cell_type": "code",
   "execution_count": 1228,
   "metadata": {},
   "outputs": [],
   "source": [
    "preds[\"% Change\"] = data[\"% Change\"]\n",
    "preds[\"Cumulative Return\"] = (1 + preds[\"% Change\"]).cumprod().copy()\n",
    "preds[\"RSI_Signal\"] = data[\"RSI_Signal\"]\n",
    "preds[\"Value\"] = (10000 * preds[\"Cumulative Return\"])\n",
    "preds[\"Crossover_10_50\"] = data[\"Crossover_10_50\"]\n",
    "preds[\"Crossover_50_200\"] = data[\"Crossover_50_200\"]"
   ]
  },
  {
   "cell_type": "code",
   "execution_count": 1229,
   "metadata": {},
   "outputs": [
    {
     "name": "stdout",
     "output_type": "stream",
     "text": [
      "Days of Growth: 1838\n",
      "Days of Decline: 1500\n",
      "\n",
      "Summary of Metrics\n",
      "------------------------------\n",
      "RSI_Signal:\n",
      "  True Positives: 437\n",
      "  True Negatives: 532\n",
      "  False Positives: 343\n",
      "  False Negatives: 619\n",
      "\n",
      "Crossover_10_50:\n",
      "  True Positives: 1323\n",
      "  True Negatives: 408\n",
      "  False Positives: 1092\n",
      "  False Negatives: 515\n",
      "  Total Crossovers: 2415\n",
      "\n",
      "Crossover_50_200:\n",
      "  True Positives: 1517\n",
      "  True Negatives: 284\n",
      "  False Positives: 1216\n",
      "  False Negatives: 321\n",
      "  Total Crossovers: 2733\n",
      "\n",
      "Predictions:\n",
      "  True Positives: 1818\n",
      "  True Negatives: 18\n",
      "  False Positives: 1482\n",
      "  False Negatives: 20\n",
      "  Total Predictions: 3300\n",
      "\n",
      "Portfolio Balances:\n",
      "------------------------------\n",
      "Balance with Crossover_10_50: 25368.59\n",
      "Balance with Crossover_50_200: 31366.67\n",
      "Balance with Predictions: 53418.24\n",
      "Real Balance: 53340.52\n"
     ]
    }
   ],
   "source": [
    "# Count growth and decline days\n",
    "count_growth = (preds[\"Target\"] == 1).sum()\n",
    "count_decline = (preds[\"Target\"] == 0).sum()\n",
    "\n",
    "print(f\"Days of Growth: {count_growth}\")\n",
    "print(f\"Days of Decline: {count_decline}\")\n",
    "\n",
    "# True/False Positives and Negatives for RSI_Signal\n",
    "true_positive_rsi = ((preds[\"Target\"] == 1) & (preds[\"RSI_Signal\"] == 1)).sum()\n",
    "true_negative_rsi = ((preds[\"Target\"] == 0) & (preds[\"RSI_Signal\"] == -1)).sum()\n",
    "false_positive_rsi = ((preds[\"Target\"] == 0) & (preds[\"RSI_Signal\"] == 1)).sum()\n",
    "false_negative_rsi = ((preds[\"Target\"] == 1) & (preds[\"RSI_Signal\"] == -1)).sum()\n",
    "\n",
    "# True/False Positives and Negatives for Crossover_10_50\n",
    "true_positive_crossover_10_50 = ((preds[\"Target\"] == 1) & (preds[\"Crossover_10_50\"] == 1)).sum()\n",
    "true_negative_crossover_10_50 = ((preds[\"Target\"] == 0) & (preds[\"Crossover_10_50\"] == 0)).sum()\n",
    "false_positive_crossover_10_50 = ((preds[\"Target\"] == 0) & (preds[\"Crossover_10_50\"] == 1)).sum()\n",
    "false_negative_crossover_10_50 = ((preds[\"Target\"] == 1) & (preds[\"Crossover_10_50\"] == 0)).sum()\n",
    "\n",
    "# True/False Positives and Negatives for Crossover_50_200\n",
    "true_positive_crossover_50_200 = ((preds[\"Target\"] == 1) & (preds[\"Crossover_50_200\"] == 1)).sum()\n",
    "true_negative_crossover_50_200 = ((preds[\"Target\"] == 0) & (preds[\"Crossover_50_200\"] == 0)).sum()\n",
    "false_positive_crossover_50_200 = ((preds[\"Target\"] == 0) & (preds[\"Crossover_50_200\"] == 1)).sum()\n",
    "false_negative_crossover_50_200 = ((preds[\"Target\"] == 1) & (preds[\"Crossover_50_200\"] == 0)).sum()\n",
    "\n",
    "# True/False Positives and Negatives for Predictions\n",
    "true_positive_predictions = ((preds[\"Target\"] == 1) & (preds[\"Predictions\"] == 1)).sum()\n",
    "true_negative_predictions = ((preds[\"Target\"] == 0) & (preds[\"Predictions\"] == 0)).sum()\n",
    "false_positive_predictions = ((preds[\"Target\"] == 0) & (preds[\"Predictions\"] == 1)).sum()\n",
    "false_negative_predictions = ((preds[\"Target\"] == 1) & (preds[\"Predictions\"] == 0)).sum()\n",
    "\n",
    "# Count total crossovers and predictions\n",
    "count_crossover_10_50 = (preds[\"Crossover_10_50\"] == 1).sum()\n",
    "count_crossover_50_200 = (preds[\"Crossover_50_200\"] == 1).sum()\n",
    "count_predictions = (preds[\"Predictions\"] == 1).sum()\n",
    "\n",
    "# Print values in an organized manner\n",
    "print(\"\\nSummary of Metrics\")\n",
    "print(\"-\" * 30)\n",
    "print(\"RSI_Signal:\")\n",
    "print(f\"  True Positives: {true_positive_rsi}\")\n",
    "print(f\"  True Negatives: {true_negative_rsi}\")\n",
    "print(f\"  False Positives: {false_positive_rsi}\")\n",
    "print(f\"  False Negatives: {false_negative_rsi}\")\n",
    "\n",
    "print(\"\\nCrossover_10_50:\")\n",
    "print(f\"  True Positives: {true_positive_crossover_10_50}\")\n",
    "print(f\"  True Negatives: {true_negative_crossover_10_50}\")\n",
    "print(f\"  False Positives: {false_positive_crossover_10_50}\")\n",
    "print(f\"  False Negatives: {false_negative_crossover_10_50}\")\n",
    "print(f\"  Total Crossovers: {count_crossover_10_50}\")\n",
    "\n",
    "print(\"\\nCrossover_50_200:\")\n",
    "print(f\"  True Positives: {true_positive_crossover_50_200}\")\n",
    "print(f\"  True Negatives: {true_negative_crossover_50_200}\")\n",
    "print(f\"  False Positives: {false_positive_crossover_50_200}\")\n",
    "print(f\"  False Negatives: {false_negative_crossover_50_200}\")\n",
    "print(f\"  Total Crossovers: {count_crossover_50_200}\")\n",
    "\n",
    "print(\"\\nPredictions:\")\n",
    "print(f\"  True Positives: {true_positive_predictions}\")\n",
    "print(f\"  True Negatives: {true_negative_predictions}\")\n",
    "print(f\"  False Positives: {false_positive_predictions}\")\n",
    "print(f\"  False Negatives: {false_negative_predictions}\")\n",
    "print(f\"  Total Predictions: {count_predictions}\")\n",
    "\n",
    "# Balance calculations\n",
    "balance_10_50 = 10000\n",
    "balance_50_200 = 10000\n",
    "balance_predictions = 10000\n",
    "balance_cross_rsi = 10000\n",
    "real_balance = 10000\n",
    "\n",
    "for i in range(len(preds) - 1):\n",
    "    # Update balance for Crossover_10_50\n",
    "    if preds[\"Crossover_10_50\"].iloc[i] == 1:\n",
    "        balance_10_50 = balance_10_50 * (1 + preds[\"% Change\"].iloc[i + 1])\n",
    "\n",
    "    # Update balance for Crossover_50_200\n",
    "    if preds[\"Crossover_50_200\"].iloc[i] == 1:\n",
    "        balance_50_200 = balance_50_200 * (1 + preds[\"% Change\"].iloc[i + 1])\n",
    "\n",
    "    # Update balance for Predictions\n",
    "    if preds[\"Predictions\"].iloc[i] == 1:\n",
    "        balance_predictions = balance_predictions * (1 + preds[\"% Change\"].iloc[i + 1])\n",
    "    \n",
    "    if (preds[\"Crossover_10_50\"].iloc[i] == 1) & (preds[\"RSI_Signal\"] == 1):\n",
    "        balance_cross_rsi = balance_cross_rsi * (1 + preds[\"% Change\"].iloc[i + 1])\n",
    "\n",
    "    # Update real balance\n",
    "    real_balance = real_balance * (1 + preds[\"% Change\"].iloc[i + 1])\n",
    "\n",
    "print(\"\\nPortfolio Balances:\")\n",
    "print(\"-\" * 30)\n",
    "print(f\"Balance with Crossover_10_50: {balance_10_50:.2f}\")\n",
    "print(f\"Balance with Crossover_50_200: {balance_50_200:.2f}\")\n",
    "print(f\"Balance with Predictions: {balance_predictions:.2f}\")\n",
    "print(f\"Real Balance: {real_balance:.2f}\")\n"
   ]
  },
  {
   "cell_type": "code",
   "execution_count": 1230,
   "metadata": {},
   "outputs": [
    {
     "name": "stdout",
     "output_type": "stream",
     "text": [
      "Metrics for Combined Conditions (Crossover_10_50 and RSI_Signal):\n",
      "--------------------------------------------------\n",
      "  True Positives: 310\n",
      "  True Negatives: 140\n",
      "  False Positives: 230\n",
      "  False Negatives: 177\n"
     ]
    }
   ],
   "source": [
    "# Calculate true positives, true negatives, false positives, and false negatives\n",
    "true_positive = ((preds[\"Crossover_10_50\"] == 1) & \n",
    "                 (preds[\"RSI_Signal\"] == 1) & \n",
    "                 (preds[\"Target\"] == 1)).sum()\n",
    "\n",
    "true_negative = ((preds[\"Crossover_10_50\"] == 0) & \n",
    "                 (preds[\"RSI_Signal\"] == -1) & \n",
    "                 (preds[\"Target\"] == 0)).sum()\n",
    "\n",
    "false_positive = ((preds[\"Crossover_10_50\"] == 1) & \n",
    "                  (preds[\"RSI_Signal\"] == 1) & \n",
    "                  (preds[\"Target\"] == 0)).sum()\n",
    "\n",
    "false_negative = ((preds[\"Crossover_10_50\"] == 0) & \n",
    "                  (preds[\"RSI_Signal\"] == -1) & \n",
    "                  (preds[\"Target\"] == 1)).sum()\n",
    "\n",
    "# Print results\n",
    "print(\"Metrics for Combined Conditions (Crossover_10_50 and RSI_Signal):\")\n",
    "print(\"-\" * 50)\n",
    "print(f\"  True Positives: {true_positive}\")\n",
    "print(f\"  True Negatives: {true_negative}\")\n",
    "print(f\"  False Positives: {false_positive}\")\n",
    "print(f\"  False Negatives: {false_negative}\")\n",
    "\n",
    "\n"
   ]
  }
 ],
 "metadata": {
  "kernelspec": {
   "display_name": "Python 3",
   "language": "python",
   "name": "python3"
  },
  "language_info": {
   "codemirror_mode": {
    "name": "ipython",
    "version": 3
   },
   "file_extension": ".py",
   "mimetype": "text/x-python",
   "name": "python",
   "nbconvert_exporter": "python",
   "pygments_lexer": "ipython3",
   "version": "3.13.0"
  }
 },
 "nbformat": 4,
 "nbformat_minor": 2
}
